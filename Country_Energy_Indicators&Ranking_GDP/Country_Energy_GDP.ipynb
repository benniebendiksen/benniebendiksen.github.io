{
 "cells": [
  {
   "cell_type": "markdown",
   "metadata": {},
   "source": [
    "---\n",
    "\n",
    "_You are currently looking at **version 1.5** of this notebook. To download notebooks and datafiles, as well as get help on Jupyter notebooks in the Coursera platform, visit the [Jupyter Notebook FAQ](https://www.coursera.org/learn/python-data-analysis/resources/0dhYG) course resource._\n",
    "\n",
    "---"
   ]
  },
  {
   "cell_type": "markdown",
   "metadata": {},
   "source": [
    "# Pandas use assignment: data cleaning, merging, and profiling"
   ]
  },
  {
   "cell_type": "markdown",
   "metadata": {},
   "source": [
    "#### Check Python and Import search directories, Install and Import needed modules"
   ]
  },
  {
   "cell_type": "code",
   "execution_count": null,
   "metadata": {},
   "outputs": [],
   "source": [
    "import sys"
   ]
  },
  {
   "cell_type": "code",
   "execution_count": null,
   "metadata": {},
   "outputs": [],
   "source": [
    "print(sys.executable)"
   ]
  },
  {
   "cell_type": "code",
   "execution_count": null,
   "metadata": {},
   "outputs": [],
   "source": [
    "print(sys.path)"
   ]
  },
  {
   "cell_type": "code",
   "execution_count": null,
   "metadata": {},
   "outputs": [],
   "source": [
    "!pip3 install xlrd\n",
    "!pip3 install pandas\n",
    "!pip3 install numpy\n",
    "!pip3 install re\n",
    "!pip3 install matplotlib"
   ]
  },
  {
   "cell_type": "code",
   "execution_count": null,
   "metadata": {},
   "outputs": [],
   "source": [
    "!pip3 install --upgrade pip"
   ]
  },
  {
   "cell_type": "code",
   "execution_count": 1,
   "metadata": {},
   "outputs": [],
   "source": [
    "import pandas as pd\n",
    "import numpy as np\n",
    "import matplotlib\n",
    "from matplotlib import pyplot as plt\n",
    "import re\n",
    "from pandas import ExcelWriter\n",
    "from pandas import ExcelFile\n",
    "from functools import reduce\n",
    "import operator"
   ]
  },
  {
   "cell_type": "markdown",
   "metadata": {},
   "source": [
    "### Data Preperation\n",
    "1) Load the energy data from the file `Energy Indicators.xls`, which is a list of indicators of [energy supply and renewable electricity production](Energy%20Indicators.xls) from the [United Nations](http://unstats.un.org/unsd/environment/excel_file_tables/2013/Energy%20Indicators.xls) for the year 2013, and should be put into a DataFrame with the variable name of **energy**.\n",
    "\n",
    "Remaining column labels should be:\n",
    "\n",
    "`['Country', 'Energy Supply', 'Energy Supply per Capita', '% Renewable']`\n",
    "\n",
    "2) Convert `Energy Supply` to gigajoules (there are 1,000,000 gigajoules in a petajoule). For all countries which have missing data (e.g. data with \"...\") make sure this is reflected as `np.NaN` values.\n",
    "\n",
    "3) Rename the following list of countries (for use in later questions):\n",
    "\n",
    "```\"Republic of Korea\": \"South Korea\",\n",
    "\"United States of America\": \"United States\",\n",
    "\"United Kingdom of Great Britain and Northern Ireland\": \"United Kingdom\",\n",
    "\"China, Hong Kong Special Administrative Region\": \"Hong Kong\"```\n",
    "\n",
    "4) Remove numbers and/or parenthesis from country names that contain them, e.g. \n",
    "\n",
    "`'Bolivia (Plurinational State of)'` should be `'Bolivia'`, \n",
    "\n",
    "`'Switzerland17'` should be `'Switzerland'`.\n",
    "\n",
    "<br>\n",
    "\n",
    "5) Next, load the GDP data from the file `world_bank.csv`, which is a csv containing countries' GDP from 1960 to 2015 from [World Bank](http://data.worldbank.org/indicator/NY.GDP.MKTP.CD). Call this DataFrame **GDP**. \n",
    "\n",
    "6) Rename the following list of countries:\n",
    "\n",
    "```\"Korea, Rep.\": \"South Korea\", \n",
    "\"Iran, Islamic Rep.\": \"Iran\",\n",
    "\"Hong Kong SAR, China\": \"Hong Kong\"```\n",
    "\n",
    "<br>\n",
    "\n",
    "7) Finally, load the [Sciamgo Journal and Country Rank data for Energy Engineering and Power Technology](http://www.scimagojr.com/countryrank.php?category=2102) from the file `scimagojr-3.xlsx`, which ranks countries based on their journal contributions in the aforementioned area. Call this DataFrame **ScimEn**.\n",
    "\n",
    "8) Join the three datasets: GDP, Energy, and ScimEn into a new dataset (using the intersection of country names). Use only the last 10 years (2006-2015) of GDP data and only the top 15 countries by Scimagojr 'Rank' (Rank 1 through 15). \n",
    "\n",
    "The index of this DataFrame should be the name of the country, and the columns should be ['Rank', 'Documents', 'Citable documents', 'Citations', 'Self-citations',\n",
    "       'Citations per document', 'H index', 'Energy Supply',\n",
    "       'Energy Supply per Capita', '% Renewable', '2006', '2007', '2008',\n",
    "       '2009', '2010', '2011', '2012', '2013', '2014', '2015'].\n",
    "\n",
    "*This function should return a DataFrame with 20 columns and 15 entries.*"
   ]
  },
  {
   "cell_type": "markdown",
   "metadata": {},
   "source": [
    "### Read-in and clean energy dataset"
   ]
  },
  {
   "cell_type": "code",
   "execution_count": null,
   "metadata": {},
   "outputs": [],
   "source": [
    "def energy():\n",
    "    energy = pd.ExcelFile('Energy Indicators.xls')\n",
    "\n",
    "    # parsing first (index: 0) sheet\n",
    "    total_rows = energy.book.sheet_by_index(0).nrows\n",
    "    #print(f\"total rows:{total_rows}\")\n",
    "    ##skiprows indexing starts at 1\n",
    "    header = 17\n",
    "    ## 244 instead of the 245 rows of interest (with header/skiprows exception) since indexing starts at 0\n",
    "    nrows = 244 - header\n",
    "    footer = total_rows - 244\n",
    "    #print(f\"header:{header}\")\n",
    "    #print(f\"nrows:{nrows}\")\n",
    "    #print(f\"footer:{footer}\")\n",
    "# (-1) in order to allow for the column label row\n",
    "    skipfooter = total_rows - nrows - header - 1\n",
    "    #print(f\"skipfooter:{skipfooter}\")\n",
    "    energy = energy.parse(0, skiprows = header, skipfooter = skipfooter)    \n",
    "    energy = energy.iloc[:, 2:].copy()\n",
    "#header indexing starts at 0\n",
    "    #print(energy.head())\n",
    "    \n",
    "    column_names = ['Country', 'Energy Supply', 'Energy Supply per Capita', '% Renewable']\n",
    "    energy.columns = column_names\n",
    "    energy = energy.replace(\"...\",np.nan)\n",
    "    energy['Energy Supply']= energy['Energy Supply']*1000000\n",
    "    \n",
    "    energy['Country'] = energy['Country'].map({'Republic of Korea': 'South Korea', \"United States of America20\": \"United States\", \"United Kingdom of Great Britain and Northern Ireland19\": \"United Kingdom\", \"China, Hong Kong Special Administrative Region3\": \"Hong Kong\"}).fillna(energy['Country'])\n",
    "    #print('Hong Kong' in energy['Country'].unique())\n",
    "    #print(energy['Country'])\n",
    "    #preceeding mapper replaces following clunky code:\n",
    "\n",
    "    #i = 0\n",
    "    #for country in energy['Country']:\n",
    "     #   if country == \"Republic of Korea\":\n",
    "      #      energy['Country'][i] = \"South Korea\"\n",
    "       # elif country == \"United States of America20\":\n",
    "        #    energy['Country'][i] = \"United States\"\n",
    "        #elif country == \"United Kingdom of Great Britain and Northern Ireland19\":\n",
    "         #   energy['Country'][i] = \"United Kingdom\"\n",
    "        #elif country == \"China, Hong Kong Special Administrative Region3\":\n",
    "         #   energy['Country'][i] = \"Hong Kong\"\n",
    "        #i+= 1\n",
    "#print(energy[\"Country\"])\n",
    "\n",
    "    energy['Country'] = energy['Country'].apply(lambda x: ''.join([e for e in x if not e.isdigit()])).fillna(energy['Country'])\n",
    "    #preceeding lambda replaces following code:\n",
    "    \n",
    "    #i = 0\n",
    "    #for country in energy['Country']:\n",
    "     #   L = ''.join([c for c in country if not c.isdigit()])\n",
    "    ##L = country.str.findall('(\\d+)', expand=False).astype(int).tostring()\n",
    "     #   energy['Country'][i] = energy['Country'][i].replace(country, L)\n",
    "      #  i+=1\n",
    "    \n",
    "    ## replace '(' and ')' with empty string (i.e., eliminate these special chars) from country names, if present\n",
    "    energy['Country'] = energy['Country'].apply(lambda x: re.sub(r\"\\s\\(.*\\)\", \"\", x))\n",
    "    #print('Bolivia' in energy['Country'].unique())\n",
    "    return energy\n",
    "\n",
    "energy()"
   ]
  },
  {
   "cell_type": "markdown",
   "metadata": {},
   "source": [
    "### Read-in and clean GDP dataset"
   ]
  },
  {
   "cell_type": "code",
   "execution_count": null,
   "metadata": {},
   "outputs": [],
   "source": [
    "def gdp():\n",
    "    GDP = pd.read_csv('world_bank.csv', header = 4) \n",
    "    #GDP['Country Name'] = GDP['Country Name'].map({\"Korea, Rep.\": 'South Korea', \"Iran, Islamic Rep.\": 'Iran', \"Hong Kong SAR, China\": 'Hong Kong'}).fillna(GDP['Country Name'])\n",
    "    countries_dict = {\"Korea, Rep.\": 'South Korea', \"Iran, Islamic Rep.\": 'Iran', \"Hong Kong SAR, China\": 'Hong Kong'}\n",
    "    #no need for fillna call at end of method chain when using conditional lambda inside map call.\n",
    "    GDP['Country Name'] = GDP['Country Name'].map(lambda x: x.replace(x, countries_dict[x] if x in countries_dict else x))\n",
    "    #print('Iran' in GDP['Country Name'].unique())\n",
    "    #preceeding lambda replaces the following otherwise lengthier code:\n",
    "    \n",
    "    #for i, row in GDP.iterrows():\n",
    "     #   if row[0] == \"Korea, Rep.\":\n",
    "      #      GDP['Country Name'][i] = 'South Korea'\n",
    "        ##print (i, row)\n",
    "        #if row[0] == \"Iran, Islamic Rep.\":\n",
    "         #   GDP['Country Name'][i] = 'Iran'  \n",
    "        #if row[0] == \"Hong Kong SAR, China\":\n",
    "         #   GDP[\"Country Name\"][i] = 'Hong Kong'\n",
    "\n",
    "    GDP.rename(columns = {'Country Name': 'Country'}, inplace = True)\n",
    "    GDP = GDP.loc[:, \"Country\":\"Country Code\"].join(GDP.loc[:,'2006':'2015'])\n",
    "    GDP.drop([\"Country Code\"], axis = 1, inplace = True)\n",
    "    \n",
    "    return GDP\n",
    "gdp()"
   ]
  },
  {
   "cell_type": "markdown",
   "metadata": {},
   "source": [
    "### Read-in SciMen dataset then merge all datasets"
   ]
  },
  {
   "cell_type": "code",
   "execution_count": null,
   "metadata": {
    "umich_part_id": "009",
    "umich_partlist_id": "003"
   },
   "outputs": [],
   "source": [
    "\n",
    "\n",
    "def scimen():\n",
    "    \n",
    "    ScimEn = pd.read_excel(\"scimagojr-3.xlsx\")\n",
    "    \n",
    "    return ScimEn\n",
    "\n",
    "#print(ScimEn)\n",
    "#print(GDP['Country'][80:])\n",
    "\n",
    "#df.drop(df.columns.to_series()[\"D\":\"R\"], axis=1)\n",
    "#join the three datasets: GDP, Energy, and ScimEn into a new dataset (using the intersection of country names). Use only the last 10 years (2006-2015) of GDP data and only the top 15 countries by Scimagojr 'Rank' (Rank 1 through 15).\n",
    "\n",
    "#pd.merge(energy, GDP, ScimEn, how = 'inner', )\n",
    "#print(df_final.size, df_final.shape, df_final.ndim)\n",
    "\n",
    "\n",
    "def answer_one():\n",
    "    \n",
    "    energy1, GDP, ScimEn = energy(),gdp(),scimen()\n",
    "    #print(ScimEn.columns, GDP.columns, energy1.columns)\n",
    "    dfs = [ScimEn, energy1, GDP]\n",
    "    #subsequent calls to merge (reduce) allows for joining across tables on specified key(s)\n",
    "    df_final = reduce(lambda left,right: pd.merge(left,right,on='Country', how = 'inner'), dfs)\n",
    "    df_final.set_index(\"Country\", inplace = True)\n",
    "    df_final = df_final[df_final['Rank'] <= 15]\n",
    "    \n",
    "    return df_final\n",
    "\n",
    "answer_one()"
   ]
  },
  {
   "cell_type": "markdown",
   "metadata": {},
   "source": [
    "### Question 2 \n",
    "The previous question joined three datasets then reduced this to just the top 15 entries. When you joined the datasets, but before you reduced this to the top 15 items, how many entries did you lose?\n",
    "\n",
    "*This function should return a single number.*"
   ]
  },
  {
   "cell_type": "code",
   "execution_count": null,
   "metadata": {
    "umich_part_id": "010",
    "umich_partlist_id": "003"
   },
   "outputs": [],
   "source": [
    "def answer_two():\n",
    "    energy1, GDP, ScimEn = energy(),gdp(),scimen()\n",
    "    \n",
    "    dfs = [ScimEn, energy1, GDP]\n",
    "    df_final2 = reduce(lambda left,right: pd.merge(left,right,on='Country', how = 'inner'), dfs)\n",
    "    df_final3 = reduce(lambda left,right: pd.merge(left,right,on='Country', how = 'outer'), dfs)\n",
    "    diff = len(df_final3.index) - len(df_final2.index)\n",
    "    \n",
    "    return diff\n",
    "\n",
    "answer_two()"
   ]
  },
  {
   "cell_type": "markdown",
   "metadata": {},
   "source": [
    "## Answer the following questions in the context of only the top 15 countries by Scimagojr Rank (aka the DataFrame returned by `answer_one()`)"
   ]
  },
  {
   "cell_type": "markdown",
   "metadata": {},
   "source": [
    "### Question 3\n",
    "What is the average GDP over the last 10 years for each country? (exclude missing values from this calculation.)\n",
    "\n",
    "*This function should return a Series named `avgGDP` with 15 countries and their average GDP sorted in descending order.*"
   ]
  },
  {
   "cell_type": "code",
   "execution_count": null,
   "metadata": {
    "scrolled": true,
    "umich_part_id": "011",
    "umich_partlist_id": "003"
   },
   "outputs": [],
   "source": [
    "def answer_three():\n",
    "    Top15 = answer_one()\n",
    "    Top15['AvgGDP'] = Top15[list(Top15.loc[:,'2006':'2015'])].mean(axis = 1)\n",
    "    Top15.sort_values('AvgGDP', ascending = False, inplace = True)\n",
    "    #print(Top15['2006'].dtype)\n",
    "    avgGDP = Top15['AvgGDP']\n",
    "    return avgGDP\n",
    "answer_three()\n"
   ]
  },
  {
   "cell_type": "markdown",
   "metadata": {},
   "source": [
    "### Question 4\n",
    "By how much had the GDP changed over the 10 year span for the country with the 6th largest average GDP?\n",
    "\n",
    "*This function should return a single number.*"
   ]
  },
  {
   "cell_type": "code",
   "execution_count": null,
   "metadata": {
    "scrolled": true,
    "umich_part_id": "012",
    "umich_partlist_id": "003"
   },
   "outputs": [],
   "source": [
    "def answer_four():\n",
    "    Top15 = answer_one()\n",
    "    gdpDiff = Top15.loc['United Kingdom', '2015'] - Top15.loc['United Kingdom', '2006']\n",
    "    return gdpDiff\n",
    "answer_four()"
   ]
  },
  {
   "cell_type": "markdown",
   "metadata": {},
   "source": [
    "### Question 5\n",
    "What is the mean `Energy Supply per Capita`?\n",
    "\n",
    "*This function should return a single number.*"
   ]
  },
  {
   "cell_type": "code",
   "execution_count": null,
   "metadata": {
    "umich_part_id": "013",
    "umich_partlist_id": "003"
   },
   "outputs": [],
   "source": [
    "def answer_five():\n",
    "    Top15 = answer_one()\n",
    "    meanEn = Top15['Energy Supply per Capita'].mean()\n",
    "    return meanEn\n",
    "answer_five()"
   ]
  },
  {
   "cell_type": "markdown",
   "metadata": {},
   "source": [
    "### Question 6\n",
    "What country has the maximum % Renewable and what is the percentage?\n",
    "\n",
    "*This function should return a tuple with the name of the country and the percentage.*"
   ]
  },
  {
   "cell_type": "code",
   "execution_count": null,
   "metadata": {
    "umich_part_id": "014",
    "umich_partlist_id": "003"
   },
   "outputs": [],
   "source": [
    "def answer_six():\n",
    "    Top15 = answer_one()\n",
    "    myList = [] \n",
    "    for i, row in Top15.iterrows():\n",
    "        myList.append((i, Top15.loc[i, \"% Renewable\"]))\n",
    "    maxPercentRenewable = max(myList, key = operator.itemgetter(1))\n",
    "    #print(type(maxPercentRenewable))\n",
    "    return maxPercentRenewable\n",
    "answer_six()"
   ]
  },
  {
   "cell_type": "markdown",
   "metadata": {},
   "source": [
    "### Question 7\n",
    "Create a new column that is the ratio of Self-Citations to Total Citations. \n",
    "What is the maximum value for this new column, and what country has the highest ratio?\n",
    "\n",
    "*This function should return a tuple with the name of the country and the ratio.*"
   ]
  },
  {
   "cell_type": "code",
   "execution_count": null,
   "metadata": {
    "umich_part_id": "015",
    "umich_partlist_id": "003"
   },
   "outputs": [],
   "source": [
    "def answer_seven():\n",
    "    Top15 = answer_one()\n",
    "    Top15['Ratio'] = Top15['Self-citations']/Top15['Citations']\n",
    "    newList = []\n",
    "    \n",
    "    for i, row in Top15.iterrows():\n",
    "        newList.append((i, Top15.loc[i, 'Ratio']))\n",
    "        \n",
    "    maxRatio = max(newList, key = operator.itemgetter(1))\n",
    "    return maxRatio\n",
    "answer_seven()"
   ]
  },
  {
   "cell_type": "markdown",
   "metadata": {},
   "source": [
    "### Question 8\n",
    "\n",
    "Create a column that estimates the population using Energy Supply and Energy Supply per capita. \n",
    "What is the third most populous country according to this estimate?\n",
    "\n",
    "*This function should return a single string value.*"
   ]
  },
  {
   "cell_type": "code",
   "execution_count": null,
   "metadata": {
    "umich_part_id": "016",
    "umich_partlist_id": "003"
   },
   "outputs": [],
   "source": [
    "def answer_eight():\n",
    "    Top15 = answer_one()\n",
    "    Top15['PopEstimate'] = Top15['Energy Supply']/Top15['Energy Supply per Capita']\n",
    "    myList = []\n",
    "    for i, row in Top15.iterrows():\n",
    "        myList.append((i, Top15.loc[i, \"PopEstimate\"]))\n",
    "    sortedPops = sorted(myList, key = operator.itemgetter(1), reverse = True)\n",
    "    answer = sortedPops[2][0]\n",
    "    return answer\n",
    "answer_eight()"
   ]
  },
  {
   "cell_type": "markdown",
   "metadata": {},
   "source": [
    "### Question 9\n",
    "Create a column that estimates the number of citable documents per person. \n",
    "What is the correlation between the number of citable documents per capita and the energy supply per capita? Use the `.corr()` method, (Pearson's correlation).\n",
    "\n",
    "*This function should return a single number.*\n",
    "\n",
    "*(Optional: Use the built-in function `plot9()` to visualize the relationship between Energy Supply per Capita vs. Citable docs per Capita)*"
   ]
  },
  {
   "cell_type": "code",
   "execution_count": null,
   "metadata": {
    "umich_part_id": "017",
    "umich_partlist_id": "003"
   },
   "outputs": [],
   "source": [
    "def answer_nine():\n",
    "    Top15 = answer_one()\n",
    "    Top15['PopEst'] = Top15['Energy Supply'] / Top15['Energy Supply per Capita']\n",
    "    Top15['Citable docs per Capita'] = Top15['Citable documents'] / Top15['PopEst']\n",
    "    corr = Top15['Citable docs per Capita'].corr(Top15['Energy Supply per Capita'])\n",
    "    return corr\n",
    "answer_nine()"
   ]
  },
  {
   "cell_type": "code",
   "execution_count": null,
   "metadata": {},
   "outputs": [],
   "source": [
    "#def plot9():\n",
    "    #import matplotlib as plt\n",
    "    #%matplotlib inline\n",
    "    \n",
    "    #Top15 = answer_one()\n",
    "    #Top15['PopEst'] = Top15['Energy Supply'] / Top15['Energy Supply per Capita']\n",
    "    #Top15['Citable docs per Capita'] = Top15['Citable documents'] / Top15['PopEst']\n",
    "    #Top15.plot(x='Citable docs per Capita', y='Energy Supply per Capita', kind='scatter', xlim=[0, 0.0006])"
   ]
  },
  {
   "cell_type": "code",
   "execution_count": null,
   "metadata": {},
   "outputs": [],
   "source": [
    "#plot9() # Be sure to comment out plot9() before submitting the assignment!"
   ]
  },
  {
   "cell_type": "markdown",
   "metadata": {},
   "source": [
    "### Question 10\n",
    "Create a new column with a 1 if the country's % Renewable value is at or above the median for all countries in the top 15, and a 0 if the country's % Renewable value is below the median.\n",
    "\n",
    "*This function should return a series named `HighRenew` whose index is the country name sorted in ascending order of rank.*"
   ]
  },
  {
   "cell_type": "code",
   "execution_count": null,
   "metadata": {
    "umich_part_id": "018",
    "umich_partlist_id": "003"
   },
   "outputs": [],
   "source": [
    "def answer_ten():\n",
    "    Top15 = answer_one()\n",
    "    Top151 = Top15[Top15['% Renewable'] >= Top15['% Renewable'].median()].copy()\n",
    "    Top151['HighRenew'] = 1\n",
    "    \n",
    "    Top152 = Top15[Top15['% Renewable'] < Top15['% Renewable'].median()].copy()\n",
    "    Top152['HighRenew'] = 0\n",
    "    HighRenew = Top151[['HighRenew', 'Rank']].append(Top152[['HighRenew', 'Rank']])\n",
    "    HighRenew.sort_values('Rank', inplace= True)\n",
    "    HighRenew = HighRenew['HighRenew']\n",
    "    \n",
    "    #print(Top15['HighRenew'].dtype)\n",
    "    return HighRenew\n",
    "answer_ten()"
   ]
  },
  {
   "cell_type": "markdown",
   "metadata": {},
   "source": [
    "### Question 11\n",
    "Use the following dictionary to group the Countries by Continent, then create a dateframe that displays the sample size (the number of countries in each continent bin), and the sum, mean, and std deviation for the estimated population of each country.\n",
    "\n",
    "```python\n",
    "ContinentDict  = {'China':'Asia', \n",
    "                  'United States':'North America', \n",
    "                  'Japan':'Asia', \n",
    "                  'United Kingdom':'Europe', \n",
    "                  'Russian Federation':'Europe', \n",
    "                  'Canada':'North America', \n",
    "                  'Germany':'Europe', \n",
    "                  'India':'Asia',\n",
    "                  'France':'Europe', \n",
    "                  'South Korea':'Asia', \n",
    "                  'Italy':'Europe', \n",
    "                  'Spain':'Europe', \n",
    "                  'Iran':'Asia',\n",
    "                  'Australia':'Australia', \n",
    "                  'Brazil':'South America'}\n",
    "```\n",
    "\n",
    "*This function should return a DataFrame with index named Continent `['Asia', 'Australia', 'Europe', 'North America', 'South America']` and columns `['size', 'sum', 'mean', 'std']`*"
   ]
  },
  {
   "cell_type": "code",
   "execution_count": null,
   "metadata": {
    "umich_part_id": "019",
    "umich_partlist_id": "003"
   },
   "outputs": [],
   "source": [
    "def answer_eleven():\n",
    "    Top15 = answer_one()\n",
    "    Top15['PopEstimate'] = Top15['Energy Supply']/Top15['Energy Supply per Capita']\n",
    "    ContinentDict  = {'China':'Asia', \n",
    "                  'United States':'North America', \n",
    "                  'Japan':'Asia', \n",
    "                  'United Kingdom':'Europe', \n",
    "                  'Russian Federation':'Europe', \n",
    "                  'Canada':'North America', \n",
    "                  'Germany':'Europe', \n",
    "                  'India':'Asia',\n",
    "                  'France':'Europe', \n",
    "                  'South Korea':'Asia', \n",
    "                  'Italy':'Europe', \n",
    "                  'Spain':'Europe', \n",
    "                  'Iran':'Asia',\n",
    "                  'Australia':'Australia', \n",
    "                  'Brazil':'South America'}\n",
    "    index1, sizeColumn, sumColumn, meanColumn, stdColumn = [],[],[],[], []\n",
    "    for index, sub_df in Top15.groupby(ContinentDict):\n",
    "        index1.append(index)\n",
    "        sizeColumn.append(len(sub_df.index))\n",
    "        sumColumn.append(sum(sub_df['PopEstimate']))\n",
    "        meanColumn.append(sub_df['PopEstimate'].mean())\n",
    "        stdColumn.append(sub_df['PopEstimate'].std())\n",
    "        #print(index, sub_df)\n",
    "    \n",
    "    dict1 = {'size': sizeColumn, 'sum': sumColumn, 'mean': meanColumn, 'std': stdColumn}\n",
    "    df = pd.DataFrame.from_dict(dict1)\n",
    "    df.index = index1\n",
    "    df.index.name = 'Continent'\n",
    "    df = df[['size','sum', 'mean','std']]\n",
    "    #g1 = Top15.groupby(ContinentDict).count()\n",
    "    return df\n",
    "\n",
    "answer_eleven()"
   ]
  },
  {
   "cell_type": "markdown",
   "metadata": {},
   "source": [
    "### Question 12\n",
    "Cut % Renewable into 5 bins. Group Top15 by the Continent, as well as these new % Renewable bins. How many countries are in each of these groups?\n",
    "\n",
    "*This function should return a __Series__ with a MultiIndex of `Continent`, then the bins for `% Renewable`. Do not include groups with no countries.*"
   ]
  },
  {
   "cell_type": "code",
   "execution_count": null,
   "metadata": {
    "scrolled": true
   },
   "outputs": [],
   "source": [
    "def answer_twelve():\n",
    "    Top15 = answer_one()\n",
    "    Top15['Bins'] = pd.cut(Top15['% Renewable'], bins = 5)\n",
    "    #Top15['Country'] = Top15.index\n",
    "\n",
    "\n",
    "    \n",
    "    ContinentDict  = {'China':'Asia', \n",
    "                  'United States':'North America', \n",
    "                  'Japan':'Asia', \n",
    "                  'United Kingdom':'Europe', \n",
    "                  'Russian Federation':'Europe', \n",
    "                  'Canada':'North America', \n",
    "                  'Germany':'Europe', \n",
    "                  'India':'Asia',\n",
    "                  'France':'Europe', \n",
    "                  'South Korea':'Asia', \n",
    "                  'Italy':'Europe', \n",
    "                  'Spain':'Europe', \n",
    "                  'Iran':'Asia',\n",
    "                  'Australia':'Australia', \n",
    "                  'Brazil':'South America'}\n",
    "    mySeries = pd.Series()\n",
    "    #Top15.set_index([ContinentDict,'Bins'])\n",
    "    thg = Top15.groupby([ContinentDict, 'Bins']).size()\n",
    "    thg.index.names = ['Continent', 'Bins']\n",
    "    \n",
    "    #df.groupby(['col1','col2']).size()\n",
    "    \n",
    "    #df.reset_index(inplace = True)\n",
    "    #Top15.rename(columns = {'index': 'Country'}, inplace = True)\n",
    "    \n",
    "    myList = []\n",
    "    #for indices, sub_df in df:\n",
    "     #   mySeries = [(indices, sub_df.index)]\n",
    "      #  myList.append(mySeries)\n",
    "       # print(indices)\n",
    "        #print(\"-----------\")\n",
    "        #print(sub_df)\n",
    "    \n",
    "    \n",
    "    return thg\n",
    "        \n",
    "        \n",
    "\n",
    "answer_twelve()\n",
    "    "
   ]
  },
  {
   "cell_type": "markdown",
   "metadata": {},
   "source": [
    "### Question 13\n",
    "Convert the Population Estimate series to a string with thousands separator (using commas). Do not round the results.\n",
    "\n",
    "e.g. 317615384.61538464 -> 317,615,384.61538464\n",
    "\n",
    "*This function should return a Series `PopEst` whose index is the country name and whose values are the population estimate string.*"
   ]
  },
  {
   "cell_type": "code",
   "execution_count": null,
   "metadata": {
    "scrolled": true,
    "umich_part_id": "020",
    "umich_partlist_id": "003"
   },
   "outputs": [],
   "source": [
    "def answer_thirteen():\n",
    "    Top15 = answer_one()\n",
    "    Top15['PopEst'] = Top15['Energy Supply'] / Top15['Energy Supply per Capita']\n",
    "    PopEst = Top15['PopEst'].apply(lambda x: '{:,}'.format(x))\n",
    "    return PopEst\n",
    "\n",
    "answer_thirteen()"
   ]
  },
  {
   "cell_type": "markdown",
   "metadata": {},
   "source": [
    "### Visualization\n",
    "\n",
    "Plotting a 'bubble plot' scatterplot to see an example visualization."
   ]
  },
  {
   "cell_type": "code",
   "execution_count": null,
   "metadata": {
    "scrolled": true
   },
   "outputs": [],
   "source": [
    "def plot_optional():\n",
    "    %matplotlib inline\n",
    "    Top15 = answer_one()\n",
    "    ax = Top15.plot(x='Rank', y='% Renewable', kind='scatter', \n",
    "                    c=['#e41a1c','#377eb8','#e41a1c','#4daf4a','#4daf4a','#377eb8','#4daf4a','#e41a1c',\n",
    "                       '#4daf4a','#e41a1c','#4daf4a','#4daf4a','#e41a1c','#dede00','#ff7f00'], \n",
    "                    xticks=range(1,16), s=6*Top15['2014']/10**10, alpha=.75, figsize=[16,6]);\n",
    "\n",
    "    for i, txt in enumerate(Top15.index):\n",
    "        ax.annotate(txt, [Top15['Rank'][i], Top15['% Renewable'][i]], ha='center')\n",
    "    ax.set_title('Country 2014 GDP (size) and Continent (color)')\n",
    "    ax.set_xlabel(\"Energy Engineering Rank 2013\")\n",
    "    ax.set_ylabel(\"% Renewable Electricity Production 2013\")\n",
    "    print(\"This bubble chart illustrates a distribution of a categorical and continuous variable along two dimensions of data;\")\n",
    "    print(\"country's respective continent (color of bubble) and 2014 GDP (size of bubble) across % Renewable vs. Rank dimensions.\")\n",
    "    \n",
    "    plt.savefig('GDPAndRank.png', bbox_inches='tight')\n",
    "plot_optional()"
   ]
  },
  {
   "cell_type": "code",
   "execution_count": null,
   "metadata": {},
   "outputs": [],
   "source": []
  }
 ],
 "metadata": {
  "anaconda-cloud": {},
  "coursera": {
   "course_slug": "python-data-analysis",
   "graded_item_id": "zAr06",
   "launcher_item_id": "KSSjT",
   "part_id": "SL3fU"
  },
  "kernelspec": {
   "display_name": "Python 3",
   "language": "python",
   "name": "python3"
  },
  "language_info": {
   "codemirror_mode": {
    "name": "ipython",
    "version": 3
   },
   "file_extension": ".py",
   "mimetype": "text/x-python",
   "name": "python",
   "nbconvert_exporter": "python",
   "pygments_lexer": "ipython3",
   "version": "3.7.3"
  },
  "umich": {
   "id": "Assignment 3",
   "version": "1.5"
  }
 },
 "nbformat": 4,
 "nbformat_minor": 1
}
